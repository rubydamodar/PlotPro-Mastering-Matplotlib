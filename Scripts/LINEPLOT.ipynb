{
 "cells": [
  {
   "cell_type": "markdown",
   "metadata": {},
   "source": [
    "## Understanding the Basics of Matplotlib"
   ]
  },
  {
   "cell_type": "markdown",
   "metadata": {},
   "source": [
    "### What is Matplotlib?\n",
    "\n",
    "Matplotlib is a very powerful library for creating visualizations in Python. Imagine it like this—whenever we want to create graphs or plots for any data, Matplotlib is like our 'graph paper and pen.' It helps us visualize data in the form of graphs, charts, etc. For now, we will focus on line plots."
   ]
  },
  {
   "cell_type": "markdown",
   "metadata": {},
   "source": [
    "### Importing Matplotlib\n",
    "\n",
    "Before we do anything, we must import Matplotlib. This is like saying, \"Matplotlib, I need your help, please come!\" So we use the following line:"
   ]
  },
  {
   "cell_type": "code",
   "execution_count": 1,
   "metadata": {},
   "outputs": [],
   "source": [
    "import matplotlib.pyplot as plt"
   ]
  },
  {
   "cell_type": "markdown",
   "metadata": {},
   "source": [
    "- `import`: This is how we bring the library into our code.\n",
    "\n",
    "- `matplotlib.pyplot`: This is the specific part of `Matplotlib` that deals with plotting. We are only importing the `pyplot` module, which is where all the plotting functions live.\n",
    "as plt: We are giving `matplotlib.pyplot` a nickname (plt). This saves us from writing `matplotlib.pyplot` again and again. Instead, we just use plt."
   ]
  }
 ],
 "metadata": {
  "kernelspec": {
   "display_name": "Python 3",
   "language": "python",
   "name": "python3"
  },
  "language_info": {
   "codemirror_mode": {
    "name": "ipython",
    "version": 3
   },
   "file_extension": ".py",
   "mimetype": "text/x-python",
   "name": "python",
   "nbconvert_exporter": "python",
   "pygments_lexer": "ipython3",
   "version": "3.12.5"
  }
 },
 "nbformat": 4,
 "nbformat_minor": 2
}
